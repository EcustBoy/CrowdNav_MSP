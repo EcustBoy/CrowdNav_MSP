{
 "cells": [
  {
   "cell_type": "code",
   "execution_count": 1,
   "metadata": {},
   "outputs": [],
   "source": [
    "import sys\n",
    "sys.path.append(\"..\")\n",
    "from crowd_sim.envs.utils.action import ActionRot\n",
    "from env_setup import gen_multi_envs\n",
    "import warnings\n",
    "warnings.filterwarnings('ignore')\n",
    "import matplotlib.pyplot as plt\n",
    "import torch\n",
    "from torch.nn import Sequential, Linear, ReLU, Module\n",
    "from tqdm import tqdm_notebook\n",
    "from torch.optim import Adam\n",
    "import math \n",
    "import random\n",
    "from torch.nn.functional import mse_loss\n",
    "import torch.nn.functional as F\n",
    "import itertools\n",
    "from torch.distributions import Categorical\n",
    "from multiprocessing_env import SubprocVecEnv"
   ]
  },
  {
   "cell_type": "code",
   "execution_count": 2,
   "metadata": {},
   "outputs": [],
   "source": [
    "class Reward_counter() :\n",
    "    def __init__(self, n_workers) :\n",
    "        self.n_workers = n_workers\n",
    "        self.reset()\n",
    "        \n",
    "    def reset(self) :\n",
    "        self.reward_log = [[] for i in range(self.n_workers)]\n",
    "        self.acc_reward = np.zeros(self.n_workers)\n",
    "        \n",
    "    def update(self, rewards, dones) :\n",
    "        for i, (r, done) in enumerate(zip(rewards, dones)) :\n",
    "            self.update_worker(i, r, done)\n",
    "            \n",
    "    def update_worker(self, i, reward, done) :\n",
    "        self.acc_reward[i] += reward\n",
    "        if done : \n",
    "            self.reward_log[i].append(self.acc_reward[i])\n",
    "            self.acc_reward[i] = 0\n",
    "        \n",
    "    def plot_results(self, conv=100) :\n",
    "        plt.title('Reward avg per workers over episodes')\n",
    "        plt.xlabel('Episode')\n",
    "        plt.ylabel('Reward avg')\n",
    "        for i in range(self.n_workers) :\n",
    "            rew_worker = rewards_avg = np.convolve(self.reward_log[i], np.ones((conv,))/conv, mode='valid')\n",
    "            plt.plot(rew_worker, label=f'worker {i}')\n",
    "        plt.show()"
   ]
  },
  {
   "cell_type": "code",
   "execution_count": 3,
   "metadata": {},
   "outputs": [],
   "source": [
    "def batch_iter(advantage, ob_states, actions, log_probs, returns, batch_size=4) :\n",
    "    for i in range(n_steps // batch_size) :\n",
    "        idxs = np.random.permutation(range(n_steps))[:batch_size]\n",
    "        yield advantage[idxs], ob_states[idxs], actions[idxs], log_probs[idxs], returns[idxs], idxs"
   ]
  },
  {
   "cell_type": "code",
   "execution_count": 4,
   "metadata": {},
   "outputs": [
    {
     "ename": "SyntaxError",
     "evalue": "invalid syntax (<ipython-input-4-f8af7f28eb87>, line 31)",
     "output_type": "error",
     "traceback": [
      "\u001b[0;36m  File \u001b[0;32m\"<ipython-input-4-f8af7f28eb87>\"\u001b[0;36m, line \u001b[0;32m31\u001b[0m\n\u001b[0;31m    log_probs[step] = dist.log_prob(act)\u001b[0m\n\u001b[0m                    ^\u001b[0m\n\u001b[0;31mSyntaxError\u001b[0m\u001b[0;31m:\u001b[0m invalid syntax\n"
     ]
    }
   ],
   "source": [
    "def ppo_train(actor_critic, enviorements, n_workers, n_episodes = 500, lr = 1e-3, \n",
    "              gamma = 0.99, n_steps = 40, eps = 0.25, batch_size = 8, n_epochs = 4,\n",
    "              reward_counter=None, show_result=10, device='gpu') :\n",
    "    \n",
    "    opt = Adam(actor_critic.parameters(), lr=lr)\n",
    "    reward_counter = Reward_counter(n_workers) if reward_counter is None else reward_counter\n",
    "    \n",
    "    for i in tqdm_notebook(range(n_episodes)) :\n",
    "\n",
    "        rewards = torch.zeros((n_steps, n_workers), dtype=torch.float).to(device)\n",
    "        mask = torch.zeros((n_steps, n_workers), dtype=torch.float).to(device)\n",
    "        log_probs = torch.zeros((n_steps, n_workers), dtype=torch.float).to(device)\n",
    "        values = torch.zeros((n_steps, n_workers), dtype=torch.float).to(device)\n",
    "        actions = torch.zeros((n_steps, n_workers), dtype=torch.float).to(device)\n",
    "        ob_states = torch.zeros((n_steps, n_workers, 4), dtype=torch.float).to(device)\n",
    "\n",
    "\n",
    "        if i == 0 :\n",
    "            observations = torch.tensor(enviorements.reset(phase='train'), dtype=torch.float, device=device)\n",
    "\n",
    "        step = 0\n",
    "        while step < n_steps :\n",
    "\n",
    "            vals, dist_theta, dist_vel = actor_critic.predict(observations)\n",
    "            \n",
    "            ob_states[step] = observations\n",
    "            values[step] = vals.view(-1)\n",
    "\n",
    "            #choose action\n",
    "            act = ActionRot(dist_vel.sample(), dist_theta.sample()=\n",
    "            log_probs[step] = dist.log_prob(act)\n",
    "            actions[step] = act\n",
    "\n",
    "            obs, r, dones, _ = enviorements.step(act.numpy())\n",
    "            mask[step] = torch.tensor(1-dones).to(device)\n",
    "            rewards[step] = torch.from_numpy(r)\n",
    "\n",
    "            observations = torch.tensor(obs, dtype=torch.float).to(device)\n",
    "\n",
    "            reward_counter.update(r, dones)\n",
    "            step+=1                   \n",
    "\n",
    "        #discounted returns calculation (with bootstraping)\n",
    "        returns = torch.zeros((n_steps, n_workers), dtype=torch.float).to(device)\n",
    "        with torch.no_grad() :\n",
    "            q_val, _ = actor_critic(observations)\n",
    "        q_val = q_val.view(-1).detach()\n",
    "        for i in reversed(range(n_steps)) :\n",
    "            q_val = rewards[i] + gamma * q_val * (mask[i])\n",
    "            returns[i] = q_val\n",
    "        advantage = (returns - values).detach()\n",
    "        \n",
    "        #optimization\n",
    "        for epoch in range(n_epochs) :\n",
    "            a = 0\n",
    "            for adv_b, state_b, action_b, l_probs_b, returns_b, idxs in batch_iter(advantage, ob_states, actions, log_probs, returns.detach(), batch_size=batch_size) :\n",
    "\n",
    "                vals, dist = actor_critic(state_b)\n",
    "\n",
    "                new_actor_probs = dist.log_prob(action_b)\n",
    "\n",
    "                #probability ration and clipped prob ration\n",
    "                r = torch.exp((new_actor_probs) - (l_probs_b.detach()))\n",
    "                clipped_r = torch.clamp(r, 1-eps, 1+eps)\n",
    "                adv = returns_b.view(batch_size, n_workers, -1) - vals\n",
    "\n",
    "                #critic loss\n",
    "                critic_loss = adv.pow(2).mean()\n",
    "\n",
    "                #actor loss\n",
    "                clipped_loss = clipped_r * adv_b.detach()\n",
    "                loss_ = r * adv_b.detach()\n",
    "                actor_loss = -torch.min(clipped_loss, loss_).mean()\n",
    "\n",
    "                opt.zero_grad()\n",
    "                loss = 0.5 * (critic_loss + actor_loss)\n",
    "                loss.backward()\n",
    "                opt.step()\n",
    "\n",
    "    if show_result is not None :\n",
    "        reward_counter.plot_results(conv=show_result)\n",
    "        \n",
    "    return actor_critic, reward_counter\n",
    "    "
   ]
  },
  {
   "cell_type": "code",
   "execution_count": null,
   "metadata": {},
   "outputs": [],
   "source": [
    "num_envs = 16\n",
    "\n",
    "def make_env():\n",
    "    def _thunk():\n",
    "        env = gen_env()\n",
    "        return env\n",
    "\n",
    "    return _thunk\n",
    "\n",
    "envs = [make_env() for i in range(num_envs)]\n",
    "envs = SubprocVecEnv(envs)\n",
    "\n",
    "env = gen_env()"
   ]
  },
  {
   "cell_type": "code",
   "execution_count": 7,
   "metadata": {},
   "outputs": [
    {
     "data": {
      "image/png": "[encoded data removed]",
      "text/plain": [
       "<Figure size 504x504 with 1 Axes>"
      ]
     },
     "metadata": {
      "needs_background": "light"
     },
     "output_type": "display_data"
    }
   ],
   "source": [
    "env.reset()\n",
    "env.render()"
   ]
  },
  {
   "cell_type": "code",
   "execution_count": null,
   "metadata": {},
   "outputs": [],
   "source": []
  }
 ],
 "metadata": {
  "kernelspec": {
   "display_name": "Python 3",
   "language": "python",
   "name": "python3"
  },
  "language_info": {
   "codemirror_mode": {
    "name": "ipython",
    "version": 3
   },
   "file_extension": ".py",
   "mimetype": "text/x-python",
   "name": "python",
   "nbconvert_exporter": "python",
   "pygments_lexer": "ipython3",
   "version": "3.7.2"
  },
  "toc": {
   "base_numbering": 1,
   "nav_menu": {},
   "number_sections": true,
   "sideBar": true,
   "skip_h1_title": false,
   "title_cell": "Table of Contents",
   "title_sidebar": "Contents",
   "toc_cell": false,
   "toc_position": {},
   "toc_section_display": true,
   "toc_window_display": false
  }
 },
 "nbformat": 4,
 "nbformat_minor": 2
}
