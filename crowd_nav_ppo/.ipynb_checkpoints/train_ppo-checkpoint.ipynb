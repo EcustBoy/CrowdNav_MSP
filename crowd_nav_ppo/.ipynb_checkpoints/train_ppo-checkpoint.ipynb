{
 "cells": [
  {
   "cell_type": "code",
   "execution_count": 1,
   "metadata": {},
   "outputs": [],
   "source": [
    "import sys\n",
    "sys.path.append(\"..\")\n",
    "from crowd_sim.envs.utils.action import ActionRot\n",
    "from env_setup import *\n",
    "import warnings\n",
    "warnings.filterwarnings('ignore')\n",
    "import matplotlib.pyplot as plt\n",
    "from math import pi\n",
    "import torch\n",
    "from torch.nn import Sequential, Linear, ReLU, Module\n",
    "from tqdm import tqdm_notebook\n",
    "from torch.optim import Adam\n",
    "import math \n",
    "import random\n",
    "from torch.nn.functional import mse_loss\n",
    "import torch.nn.functional as F\n",
    "import itertools\n",
    "from torch.distributions import Categorical\n",
    "from multiprocessing_env import SubprocVecEnv\n",
    "import time\n",
    "import numpy as np"
   ]
  },
  {
   "cell_type": "code",
   "execution_count": 2,
   "metadata": {},
   "outputs": [],
   "source": [
    "class Reward_counter() :\n",
    "    def __init__(self, n_workers) :\n",
    "        self.n_workers = n_workers\n",
    "        self.reset()\n",
    "        \n",
    "    def reset(self) :\n",
    "        self.reward_log = [[] for i in range(self.n_workers)]\n",
    "        self.acc_reward = np.zeros(self.n_workers)\n",
    "        self.acc_dones = np.zeros(self.n_workers)\n",
    "        \n",
    "    def update(self, rewards, dones) :\n",
    "        for i, (r, done) in enumerate(zip(rewards, dones)) :\n",
    "            self.update_worker(i, r, done)\n",
    "            \n",
    "    def update_worker(self, i, reward, done) :\n",
    "        self.acc_reward[i] += reward\n",
    "        if done : \n",
    "            self.reward_log[i].append(self.acc_reward[i])\n",
    "            self.acc_reward[i] = 0\n",
    "            self.acc_dones[i] += 1\n",
    "        \n",
    "    def plot_results(self, conv=100) :\n",
    "        plt.title('Reward avg per workers over episodes')\n",
    "        plt.xlabel('Episode')\n",
    "        plt.ylabel('Reward avg')\n",
    "        for i in range(self.n_workers) :\n",
    "            rew_worker = rewards_avg = np.convolve(self.reward_log[i], np.ones((conv,))/conv, mode='valid')\n",
    "            plt.plot(rew_worker, label=f'worker {i}')\n",
    "        plt.show()\n",
    "        for i in range(self.n_workers) :\n",
    "            print('Worker {} did {} full sims'.format(i, self.acc_dones[i]))"
   ]
  },
  {
   "cell_type": "code",
   "execution_count": 3,
   "metadata": {},
   "outputs": [],
   "source": [
    "def batch_iter(advantage, ob_states, actions, log_probs, returns, n_steps, batch_size=4) :\n",
    "    for i in range(n_steps // batch_size) :\n",
    "        idxs = np.random.permutation(range(n_steps))[:batch_size]\n",
    "        yield advantage[idxs], ob_states[idxs], actions[idxs], log_probs[idxs], returns[idxs], idxs"
   ]
  },
  {
   "cell_type": "code",
   "execution_count": 4,
   "metadata": {},
   "outputs": [],
   "source": [
    "def clipped_action(action) :\n",
    "    return ActionRot(np.clip(action.v, 0, 1), np.clip(action.v, 0, 2*pi))"
   ]
  },
  {
   "cell_type": "code",
   "execution_count": 5,
   "metadata": {},
   "outputs": [],
   "source": [
    "def ppo_train(actor_critic, enviorements, n_workers, n_episodes = 100, lr = 1e-3, \n",
    "              gamma = 0.99, n_steps = 16, eps = 0.25, batch_size = 4, n_epochs = 2,\n",
    "              reward_counter=None, show_result=10, device='cpu', n_humans=5, st_size=14, print_time=False) :\n",
    "    \n",
    "    opt = Adam(actor_critic.model.parameters(), lr=lr)\n",
    "    reward_counter = Reward_counter(n_workers) if reward_counter is None else reward_counter\n",
    "    \n",
    "    for i in tqdm_notebook(range(n_episodes)) :\n",
    "\n",
    "        rewards = torch.zeros((n_steps, n_workers), dtype=torch.float).to(device)\n",
    "        mask = torch.zeros((n_steps, n_workers), dtype=torch.float).to(device)\n",
    "        log_probs = torch.zeros((n_steps, n_workers), dtype=torch.float).to(device)\n",
    "        values = torch.zeros((n_steps, n_workers), dtype=torch.float).to(device)\n",
    "        actions = torch.zeros((n_steps, n_workers, 2), dtype=torch.float).to(device)\n",
    "        ob_states = torch.zeros((n_steps, n_workers, n_humans, st_size), dtype=torch.float).to(device)\n",
    "\n",
    "\n",
    "        if i == 0 :\n",
    "            observations = enviorements.reset()\n",
    "\n",
    "        step = 0\n",
    "        if print_time :\n",
    "            print('Starting episode {}'.format(i))\n",
    "        time_start_ep = time.time() \n",
    "        while step < n_steps :\n",
    "\n",
    "            vals, dist = actor_critic.predict(observations, update_time=True)\n",
    "            \n",
    "            ob_states[step] = torch.tensor(observations, dtype=torch.float32, device=device)\n",
    "            values[step] = vals.view(-1)\n",
    "\n",
    "            #choose action\n",
    "            acts = dits.sample()\n",
    "            log_probs[step] = dist.log_prob(acts)\n",
    "            actions[step] = acts\n",
    "            \n",
    "            action_clipped = [clipped_action(ActionRot(acts[i, 0], r[i, 1])) for i in range(n_workers)]\n",
    "\n",
    "            obs, r, dones, _ = enviorements.step(action_clipped)\n",
    "            mask[step] = torch.tensor(1-dones).to(device)\n",
    "            rewards[step] = torch.from_numpy(r)\n",
    "\n",
    "            observations = obs\n",
    "\n",
    "            reward_counter.update(r, dones)\n",
    "            step+=1      \n",
    "        time_end_simu = time.time()\n",
    "\n",
    "        #discounted returns calculation (with bootstraping)\n",
    "        returns = torch.zeros((n_steps, n_workers), dtype=torch.float).to(device)\n",
    "        with torch.no_grad() :\n",
    "            q_val, _, _ = actor_critic.predict(observations)\n",
    "        q_val = q_val.view(-1).detach()\n",
    "        for i in reversed(range(n_steps)) :\n",
    "            q_val = rewards[i] + gamma * q_val * (mask[i])\n",
    "            returns[i] = q_val\n",
    "        advantage = (returns - values).detach()\n",
    "        \n",
    "        time_start_opt = time.time()\n",
    "        #optimization\n",
    "        for epoch in range(n_epochs) :\n",
    "            a = 0\n",
    "            for adv_b, state_b, action_b, l_probs_b, returns_b, idxs in batch_iter(advantage, ob_states, actions, \n",
    "                                                                                   log_probs, returns.detach(), n_steps=n_steps, batch_size=batch_size) :\n",
    "\n",
    "                vals, dist = actor_critic.predict(state_b.view(-1, n_humans, st_size).numpy())\n",
    "                \n",
    "                #new_actor_probs = (dist_theta.log_prob(action_b[:, :, 1].view(-1)) * dist_vel.log_prob(action_b[:, :, 0].view(-1))).view(batch_size, n_workers)\n",
    "                new_actor_probs = dist.sample(action_b.view(-1, 2))\n",
    "                entropy = dist.entropy().mean()\n",
    "                \n",
    "                #probability ration and clipped prob ration\n",
    "                r = torch.exp((new_actor_probs) - (l_probs_b.detach()))\n",
    "                clipped_r = torch.clamp(r, 1-eps, 1+eps)\n",
    "                adv = returns_b.view(batch_size, n_workers, -1) - vals.view(batch_size, n_workers, 1)\n",
    "\n",
    "                #critic loss\n",
    "                critic_loss = adv.pow(2).mean()\n",
    "\n",
    "                #actor loss\n",
    "                clipped_loss = clipped_r * adv_b.detach()\n",
    "                loss_ = r * adv_b.detach()\n",
    "                actor_loss = -torch.min(clipped_loss, loss_).mean()\n",
    "\n",
    "                opt.zero_grad()\n",
    "                loss = 0.5 * (critic_loss + actor_loss) \n",
    "                loss.backward()\n",
    "                opt.step()\n",
    "        \n",
    "        time_end_ep = time.time()\n",
    "        time_epiode = time_end_ep - time_start_ep\n",
    "        time_opti = time_end_ep - time_start_opt\n",
    "        time_simu = time_end_simu - time_start_ep\n",
    "        \n",
    "        if print_time :\n",
    "            print('Episode {} took {:.2f}s, {:.2f}s simu, {:.2f}s opti'.format(i, time_epiode, time_simu, time_opti))\n",
    "        \n",
    "    if show_result is not None :\n",
    "        reward_counter.plot_results(conv=show_result)\n",
    "        \n",
    "    return actor_critic, reward_counter\n",
    "    "
   ]
  },
  {
   "cell_type": "code",
   "execution_count": 6,
   "metadata": {
    "scrolled": true
   },
   "outputs": [],
   "source": [
    "ac_policy = gen_policy()\n",
    "envs = gen_multi_envs(4, ac_policy)"
   ]
  },
  {
   "cell_type": "code",
   "execution_count": 7,
   "metadata": {
    "scrolled": true
   },
   "outputs": [
    {
     "data": {
      "application/vnd.jupyter.widget-view+json": {
       "model_id": "78de40179ecf448b831bb01e54941254",
       "version_major": 2,
       "version_minor": 0
      },
      "text/plain": [
       "HBox(children=(IntProgress(value=0, max=10), HTML(value='')))"
      ]
     },
     "metadata": {},
     "output_type": "display_data"
    },
    {
     "name": "stdout",
     "output_type": "stream",
     "text": [
      "\n"
     ]
    },
    {
     "data": {
      "image/png": "[encoded data removed]",
      "text/plain": [
       "<Figure size 432x288 with 1 Axes>"
      ]
     },
     "metadata": {
      "needs_background": "light"
     },
     "output_type": "display_data"
    },
    {
     "name": "stdout",
     "output_type": "stream",
     "text": [
      "Worker 0 did 1.0 full sims\n",
      "Worker 1 did 1.0 full sims\n",
      "Worker 2 did 1.0 full sims\n",
      "Worker 3 did 1.0 full sims\n"
     ]
    }
   ],
   "source": [
    "ac_policy, rc = ppo_train(ac_policy, envs, 4, n_episodes=10 , show_result=1)"
   ]
  },
  {
   "cell_type": "code",
   "execution_count": 8,
   "metadata": {
    "scrolled": true
   },
   "outputs": [
    {
     "data": {
      "text/plain": [
       "0.01"
      ]
     },
     "execution_count": 8,
     "metadata": {},
     "output_type": "execute_result"
    }
   ],
   "source": [
    "ac_policy.model.dist_std"
   ]
  },
  {
   "cell_type": "code",
   "execution_count": 9,
   "metadata": {},
   "outputs": [
    {
     "data": {
      "text/plain": [
       "480"
      ]
     },
     "execution_count": 9,
     "metadata": {},
     "output_type": "execute_result"
    }
   ],
   "source": [
    "ac_policy.time"
   ]
  },
  {
   "cell_type": "code",
   "execution_count": 9,
   "metadata": {},
   "outputs": [
    {
     "data": {
      "text/plain": [
       "[[nan], [nan], [nan], [nan]]"
      ]
     },
     "execution_count": 9,
     "metadata": {},
     "output_type": "execute_result"
    }
   ],
   "source": [
    "rc.reward_log"
   ]
  },
  {
   "cell_type": "code",
   "execution_count": 88,
   "metadata": {},
   "outputs": [],
   "source": []
  },
  {
   "cell_type": "code",
   "execution_count": 89,
   "metadata": {},
   "outputs": [],
   "source": [
    "a = torch.randn(1, 10)\n",
    "a.requires_grad  = True"
   ]
  },
  {
   "cell_type": "code",
   "execution_count": 90,
   "metadata": {},
   "outputs": [],
   "source": [
    "b = clipped_exp.apply(a)"
   ]
  },
  {
   "cell_type": "code",
   "execution_count": 91,
   "metadata": {},
   "outputs": [],
   "source": [
    "c = b.mean()"
   ]
  },
  {
   "cell_type": "code",
   "execution_count": 92,
   "metadata": {},
   "outputs": [],
   "source": [
    "c.backward()"
   ]
  },
  {
   "cell_type": "code",
   "execution_count": 93,
   "metadata": {},
   "outputs": [
    {
     "data": {
      "text/plain": [
       "tensor([[0.1000, 0.1000, 0.1000, 0.1000, 0.1000, 0.1000, 0.1000, 0.1000, 0.1000,\n",
       "         0.1000]])"
      ]
     },
     "execution_count": 93,
     "metadata": {},
     "output_type": "execute_result"
    }
   ],
   "source": [
    "a.grad"
   ]
  },
  {
   "cell_type": "code",
   "execution_count": 95,
   "metadata": {},
   "outputs": [],
   "source": [
    "b.grad"
   ]
  },
  {
   "cell_type": "code",
   "execution_count": 1,
   "metadata": {},
   "outputs": [],
   "source": [
    "import sys\n",
    "sys.path.append(\"..\")\n",
    "from crowd_sim.envs.utils.action import ActionRot\n",
    "from env_setup import *\n",
    "from crowd_sim_ppo import *\n",
    "import warnings\n",
    "warnings.filterwarnings('ignore')\n",
    "import matplotlib.pyplot as plt\n",
    "from math import pi\n",
    "import torch\n",
    "from torch.nn import Sequential, Linear, ReLU, Module\n",
    "from tqdm import tqdm_notebook\n",
    "from torch.optim import Adam\n",
    "import math \n",
    "import random\n",
    "from torch.nn.functional import mse_loss\n",
    "import torch.nn.functional as F\n",
    "import itertools\n",
    "from torch.distributions import Categorical\n",
    "from multiprocessing_env import SubprocVecEnv\n",
    "import time"
   ]
  },
  {
   "cell_type": "code",
   "execution_count": 2,
   "metadata": {},
   "outputs": [],
   "source": [
    "ac_policy = gen_policy()\n",
    "env = gen_env(ac_policy)\n",
    "ob = env.reset()"
   ]
  },
  {
   "cell_type": "code",
   "execution_count": 3,
   "metadata": {
    "scrolled": true
   },
   "outputs": [
    {
     "data": {
      "image/png": "[encoded data removed]",
      "text/plain": [
       "<Figure size 504x504 with 1 Axes>"
      ]
     },
     "metadata": {
      "needs_background": "light"
     },
     "output_type": "display_data"
    }
   ],
   "source": [
    "env.render()"
   ]
  },
  {
   "cell_type": "code",
   "execution_count": 4,
   "metadata": {},
   "outputs": [
    {
     "data": {
      "text/plain": [
       "[<crowd_sim.envs.utils.human.Human at 0x7fe026e38550>]"
      ]
     },
     "execution_count": 4,
     "metadata": {},
     "output_type": "execute_result"
    }
   ],
   "source": [
    "env.humans"
   ]
  },
  {
   "cell_type": "code",
   "execution_count": 5,
   "metadata": {},
   "outputs": [],
   "source": [
    "x,y = ac_policy.predict(np.asarray([ob]))"
   ]
  },
  {
   "cell_type": "code",
   "execution_count": 6,
   "metadata": {},
   "outputs": [
    {
     "data": {
      "text/plain": [
       "(tensor([[0.0142]], grad_fn=<AddmmBackward>),\n",
       " Normal(loc: tensor([-0.0063], grad_fn=<SelectBackward>), scale: tensor([1.0192], grad_fn=<SelectBackward>)),\n",
       " Normal(loc: tensor([0.1188], grad_fn=<SelectBackward>), scale: tensor([1.0146], grad_fn=<SelectBackward>)))"
      ]
     },
     "execution_count": 6,
     "metadata": {},
     "output_type": "execute_result"
    }
   ],
   "source": [
    "x"
   ]
  },
  {
   "cell_type": "code",
   "execution_count": 7,
   "metadata": {},
   "outputs": [
    {
     "data": {
      "text/plain": [
       "tensor([[[ 2.0000,  1.0000,  0.0000,  0.3000,  0.0000,  0.0000,  4.2722,\n",
       "          -3.9402,  0.0000,  0.0000,  0.3000,  5.8117,  0.6000]]])"
      ]
     },
     "execution_count": 7,
     "metadata": {},
     "output_type": "execute_result"
    }
   ],
   "source": [
    "y"
   ]
  },
  {
   "cell_type": "code",
   "execution_count": 8,
   "metadata": {},
   "outputs": [
    {
     "data": {
      "text/plain": [
       "-4.0"
      ]
     },
     "execution_count": 8,
     "metadata": {},
     "output_type": "execute_result"
    }
   ],
   "source": [
    "env.humans[1].py"
   ]
  },
  {
   "cell_type": "code",
   "execution_count": 15,
   "metadata": {},
   "outputs": [
    {
     "data": {
      "text/plain": [
       "array([0.1, 0.1, 0.1])"
      ]
     },
     "execution_count": 15,
     "metadata": {},
     "output_type": "execute_result"
    }
   ],
   "source": [
    "np.ones_like(np.random.randint(1, 2, 3)) * 0.1"
   ]
  },
  {
   "cell_type": "code",
   "execution_count": 16,
   "metadata": {},
   "outputs": [],
   "source": [
    "from torch.distributions import MultivariateNormal"
   ]
  },
  {
   "cell_type": "code",
   "execution_count": 6,
   "metadata": {},
   "outputs": [],
   "source": [
    "a = torch.randn(4, 4, 2)"
   ]
  },
  {
   "cell_type": "code",
   "execution_count": 51,
   "metadata": {},
   "outputs": [],
   "source": [
    "d = MultivariateNormal(a, torch.eye(2).expand(4, 4, 2, 2))"
   ]
  },
  {
   "cell_type": "code",
   "execution_count": 41,
   "metadata": {},
   "outputs": [
    {
     "data": {
      "text/plain": [
       "torch.Size([4, 4, 2])"
      ]
     },
     "execution_count": 41,
     "metadata": {},
     "output_type": "execute_result"
    }
   ],
   "source": [
    "d.sample().shap"
   ]
  },
  {
   "cell_type": "code",
   "execution_count": 42,
   "metadata": {},
   "outputs": [
    {
     "data": {
      "text/plain": [
       "tensor([[-12.3153,  -4.6237,  -3.9401,  -3.3161],\n",
       "        [ -7.7634,  -7.7194,  -2.2219,  -2.5437],\n",
       "        [ -5.1548,  -3.6816,  -6.0102,  -3.5677],\n",
       "        [ -6.8460,  -4.4097,  -3.1474,  -2.7057]])"
      ]
     },
     "execution_count": 42,
     "metadata": {},
     "output_type": "execute_result"
    }
   ],
   "source": [
    "d.log_prob(torch.randn(4, 2))"
   ]
  },
  {
   "cell_type": "code",
   "execution_count": null,
   "metadata": {},
   "outputs": [],
   "source": []
  }
 ],
 "metadata": {
  "kernelspec": {
   "display_name": "Python 3",
   "language": "python",
   "name": "python3"
  },
  "language_info": {
   "codemirror_mode": {
    "name": "ipython",
    "version": 3
   },
   "file_extension": ".py",
   "mimetype": "text/x-python",
   "name": "python",
   "nbconvert_exporter": "python",
   "pygments_lexer": "ipython3",
   "version": "3.7.2"
  },
  "toc": {
   "base_numbering": 1,
   "nav_menu": {},
   "number_sections": true,
   "sideBar": true,
   "skip_h1_title": false,
   "title_cell": "Table of Contents",
   "title_sidebar": "Contents",
   "toc_cell": false,
   "toc_position": {},
   "toc_section_display": true,
   "toc_window_display": false
  }
 },
 "nbformat": 4,
 "nbformat_minor": 2
}
