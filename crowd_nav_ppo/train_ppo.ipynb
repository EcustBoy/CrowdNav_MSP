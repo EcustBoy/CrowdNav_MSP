{
 "cells": [
  {
   "cell_type": "code",
   "execution_count": 1,
   "metadata": {},
   "outputs": [],
   "source": [
    "import sys\n",
    "sys.path.append(\"..\")\n",
    "from crowd_sim.envs.utils.action import ActionRot\n",
    "from env_setup import *\n",
    "import warnings\n",
    "warnings.filterwarnings('ignore')\n",
    "import matplotlib.pyplot as plt\n",
    "from math import pi\n",
    "import torch\n",
    "from torch.nn import Sequential, Linear, ReLU, Module\n",
    "from tqdm import tqdm_notebook\n",
    "from torch.optim import Adam\n",
    "import math \n",
    "import random\n",
    "from torch.nn.functional import mse_loss\n",
    "import torch.nn.functional as F\n",
    "import itertools\n",
    "from torch.distributions import Categorical\n",
    "from multiprocessing_env import SubprocVecEnv\n",
    "import time\n",
    "import numpy as np"
   ]
  },
  {
   "cell_type": "code",
   "execution_count": 2,
   "metadata": {},
   "outputs": [],
   "source": [
    "class Reward_counter() :\n",
    "    def __init__(self, n_workers) :\n",
    "        self.n_workers = n_workers\n",
    "        self.reset()\n",
    "        \n",
    "    def reset(self) :\n",
    "        self.reward_log = [[] for i in range(self.n_workers)]\n",
    "        self.acc_reward = np.zeros(self.n_workers)\n",
    "        self.acc_dones = np.zeros(self.n_workers)\n",
    "        \n",
    "    def update(self, rewards, dones) :\n",
    "        for i, (r, done) in enumerate(zip(rewards, dones)) :\n",
    "            self.update_worker(i, r, done)\n",
    "            \n",
    "    def update_worker(self, i, reward, done) :\n",
    "        self.acc_reward[i] += reward\n",
    "        if done : \n",
    "            self.reward_log[i].append(self.acc_reward[i])\n",
    "            self.acc_reward[i] = 0\n",
    "            self.acc_dones[i] += 1\n",
    "        \n",
    "    def plot_results(self, conv=100) :\n",
    "        plt.title('Reward avg per workers over episodes')\n",
    "        plt.xlabel('Episode')\n",
    "        plt.ylabel('Reward avg')\n",
    "        for i in range(self.n_workers) :\n",
    "            rew_worker = rewards_avg = np.convolve(self.reward_log[i], np.ones((conv,))/conv, mode='valid')\n",
    "            plt.plot(rew_worker, label=f'worker {i}')\n",
    "        plt.show()\n",
    "        for i in range(self.n_workers) :\n",
    "            print('Worker {} did {} full sims'.format(i, self.acc_dones[i]))"
   ]
  },
  {
   "cell_type": "code",
   "execution_count": 3,
   "metadata": {},
   "outputs": [],
   "source": [
    "def batch_iter(advantage, ob_states, actions, log_probs, returns, n_steps, batch_size=4) :\n",
    "    for i in range(n_steps // batch_size) :\n",
    "        idxs = np.random.permutation(range(n_steps))[:batch_size]\n",
    "        yield advantage[idxs], ob_states[idxs], actions[idxs], log_probs[idxs], returns[idxs], idxs"
   ]
  },
  {
   "cell_type": "code",
   "execution_count": 13,
   "metadata": {},
   "outputs": [],
   "source": [
    "def clipped_action(action) :\n",
    "    return ActionRot(1, np.clip(action.r, 0, 2*pi))"
   ]
  },
  {
   "cell_type": "code",
   "execution_count": 14,
   "metadata": {},
   "outputs": [],
   "source": [
    "def ppo_train(actor_critic, enviorements, n_workers, n_episodes = 100, lr = 1e-3, \n",
    "              gamma = 0.99, n_steps = 16, eps = 0.25, batch_size = 4, n_epochs = 2,\n",
    "              reward_counter=None, show_result=10, device='cpu', n_humans=5, st_size=14, print_time=False) :\n",
    "    \n",
    "    opt = Adam(actor_critic.model.parameters(), lr=lr)\n",
    "    reward_counter = Reward_counter(n_workers) if reward_counter is None else reward_counter\n",
    "    \n",
    "    for i in tqdm_notebook(range(n_episodes)) :\n",
    "\n",
    "        rewards = torch.zeros((n_steps, n_workers), dtype=torch.float).to(device)\n",
    "        mask = torch.zeros((n_steps, n_workers), dtype=torch.float).to(device)\n",
    "        log_probs = torch.zeros((n_steps, n_workers), dtype=torch.float).to(device)\n",
    "        values = torch.zeros((n_steps, n_workers), dtype=torch.float).to(device)\n",
    "        actions = torch.zeros((n_steps, n_workers, 2), dtype=torch.float).to(device)\n",
    "        ob_states = torch.zeros((n_steps, n_workers, n_humans, st_size), dtype=torch.float).to(device)\n",
    "\n",
    "\n",
    "        if i == 0 :\n",
    "            observations = enviorements.reset()\n",
    "\n",
    "        step = 0\n",
    "        if print_time :\n",
    "            print('Starting episode {}'.format(i))\n",
    "        time_start_ep = time.time() \n",
    "        while step < n_steps :\n",
    "\n",
    "            vals, dist = actor_critic.predict(observations, update_time=True)\n",
    "            \n",
    "            ob_states[step] = torch.tensor(observations, dtype=torch.float32, device=device)\n",
    "            values[step] = vals.view(-1)\n",
    "\n",
    "            #choose action\n",
    "            acts = dist.sample()\n",
    "            log_probs[step] = dist.log_prob(acts)\n",
    "            actions[step] = acts\n",
    "            \n",
    "            action_clipped = [clipped_action(ActionRot(acts[i, 0], acts[i, 1])) for i in range(n_workers)]\n",
    "\n",
    "            obs, r, dones, _ = enviorements.step(action_clipped)\n",
    "            mask[step] = torch.tensor(1-dones).to(device)\n",
    "            rewards[step] = torch.from_numpy(r)\n",
    "\n",
    "            observations = obs\n",
    "\n",
    "            reward_counter.update(r, dones)\n",
    "            step+=1      \n",
    "        time_end_simu = time.time()\n",
    "\n",
    "        #discounted returns calculation (with bootstraping)\n",
    "        returns = torch.zeros((n_steps, n_workers), dtype=torch.float).to(device)\n",
    "        with torch.no_grad() :\n",
    "            q_val, _ = actor_critic.predict(observations)\n",
    "        q_val = q_val.view(-1).detach()\n",
    "        for i in reversed(range(n_steps)) :\n",
    "            q_val = rewards[i] + gamma * q_val * (mask[i])\n",
    "            returns[i] = q_val\n",
    "        advantage = (returns - values).detach()\n",
    "        \n",
    "        time_start_opt = time.time()\n",
    "        #optimization\n",
    "        for epoch in range(n_epochs) :\n",
    "            a = 0\n",
    "            for adv_b, state_b, action_b, l_probs_b, returns_b, idxs in batch_iter(advantage, ob_states, actions, \n",
    "                                                                                   log_probs, returns.detach(), n_steps=n_steps, batch_size=batch_size) :\n",
    "\n",
    "                vals, dist = actor_critic.predict(state_b.view(-1, n_humans, st_size).numpy())\n",
    "                \n",
    "                #new_actor_probs = (dist_theta.log_prob(action_b[:, :, 1].view(-1)) * dist_vel.log_prob(action_b[:, :, 0].view(-1))).view(batch_size, n_workers)\n",
    "                s1, s2, _ = action_b.shape\n",
    "                new_actor_probs = dist.log_prob(action_b.view(-1, 2)).view(s1, s2, -1)\n",
    "                entropy = dist.entropy().mean()\n",
    "                \n",
    "                #probability ration and clipped prob ration\n",
    "                r = torch.exp((new_actor_probs) - (l_probs_b.detach()))\n",
    "                clipped_r = torch.clamp(r, 1-eps, 1+eps)\n",
    "                adv = returns_b.view(batch_size, n_workers, -1) - vals.view(batch_size, n_workers, 1)\n",
    "\n",
    "                #critic loss\n",
    "                critic_loss = adv.pow(2).mean()\n",
    "\n",
    "                #actor loss\n",
    "                clipped_loss = clipped_r * adv_b.detach()\n",
    "                loss_ = r * adv_b.detach()\n",
    "                actor_loss = -torch.min(clipped_loss, loss_).mean()\n",
    "\n",
    "                opt.zero_grad()\n",
    "                loss = 0.5 * (critic_loss + actor_loss) \n",
    "                loss.backward()\n",
    "                opt.step()\n",
    "        \n",
    "        time_end_ep = time.time()\n",
    "        time_epiode = time_end_ep - time_start_ep\n",
    "        time_opti = time_end_ep - time_start_opt\n",
    "        time_simu = time_end_simu - time_start_ep\n",
    "        \n",
    "        if print_time :\n",
    "            print('Episode {} took {:.2f}s, {:.2f}s simu, {:.2f}s opti'.format(i, time_epiode, time_simu, time_opti))\n",
    "        \n",
    "    if show_result is not None :\n",
    "        reward_counter.plot_results(conv=show_result)\n",
    "        \n",
    "    return actor_critic, reward_counter\n",
    "    "
   ]
  },
  {
   "cell_type": "code",
   "execution_count": 15,
   "metadata": {
    "scrolled": true
   },
   "outputs": [],
   "source": [
    "ac_policy = gen_policy()\n",
    "envs = gen_multi_envs(4, ac_policy)"
   ]
  },
  {
   "cell_type": "code",
   "execution_count": 16,
   "metadata": {
    "scrolled": false
   },
   "outputs": [
    {
     "data": {
      "application/vnd.jupyter.widget-view+json": {
       "model_id": "a760d87d02004e5cba72b136f876fc87",
       "version_major": 2,
       "version_minor": 0
      },
      "text/plain": [
       "HBox(children=(IntProgress(value=0, max=150), HTML(value='')))"
      ]
     },
     "metadata": {},
     "output_type": "display_data"
    },
    {
     "name": "stdout",
     "output_type": "stream",
     "text": [
      "\n"
     ]
    },
    {
     "data": {
      "image/png": "[encoded data removed]",
      "text/plain": [
       "<Figure size 432x288 with 1 Axes>"
      ]
     },
     "metadata": {
      "needs_background": "light"
     },
     "output_type": "display_data"
    },
    {
     "name": "stdout",
     "output_type": "stream",
     "text": [
      "Worker 0 did 24.0 full sims\n",
      "Worker 1 did 24.0 full sims\n",
      "Worker 2 did 24.0 full sims\n",
      "Worker 3 did 24.0 full sims\n"
     ]
    }
   ],
   "source": [
    "ac_policy, rc = ppo_train(ac_policy, envs, 4, n_episodes=150 , show_result=1)"
   ]
  },
  {
   "cell_type": "code",
   "execution_count": 60,
   "metadata": {},
   "outputs": [],
   "source": [
    "import sys\n",
    "sys.path.append(\"..\")\n",
    "from crowd_sim.envs.utils.action import ActionRot\n",
    "from env_setup import *\n",
    "from crowd_sim_ppo import *\n",
    "import warnings\n",
    "warnings.filterwarnings('ignore')\n",
    "import matplotlib.pyplot as plt\n",
    "from math import pi\n",
    "import torch\n",
    "from torch.nn import Sequential, Linear, ReLU, Module\n",
    "from tqdm import tqdm_notebook\n",
    "from torch.optim import Adam\n",
    "import math \n",
    "import random\n",
    "from torch.nn.functional import mse_loss\n",
    "import torch.nn.functional as F\n",
    "import itertools\n",
    "from torch.distributions import Categorical\n",
    "from multiprocessing_env import SubprocVecEnv\n",
    "import time"
   ]
  },
  {
   "cell_type": "code",
   "execution_count": 8,
   "metadata": {},
   "outputs": [],
   "source": [
    "env = gen_env(ac_policy)"
   ]
  },
  {
   "cell_type": "code",
   "execution_count": 9,
   "metadata": {},
   "outputs": [],
   "source": [
    "def render_random_ep(enviorement, plolicy=None) :\n",
    "    enviorement.reset() \n",
    "    while True  :\n",
    "        act = ActionRot(1, 2 * np.pi)\n",
    "        ob, r, done, _ = enviorement.step(act)\n",
    "        if done :\n",
    "            break\n",
    "    enviorement.render(mode='traj')"
   ]
  },
  {
   "cell_type": "code",
   "execution_count": 10,
   "metadata": {},
   "outputs": [],
   "source": [
    "def render_policy_ep(enviorement, policy) :\n",
    "    ob = enviorement.reset() \n",
    "    while True  :\n",
    "        val, dist = policy.predict(np.asarray([ob]))\n",
    "        acts = dist.sample()\n",
    "        \n",
    "            \n",
    "        action_clipped = clipped_action(ActionRot(acts[0, 0], acts[0, 1]))\n",
    "        print(acts, action_clipped)\n",
    "\n",
    "        ob, r, done, _ = enviorement.step(action_clipped)\n",
    "        if done :\n",
    "            break\n",
    "    enviorement.render(mode='traj')"
   ]
  },
  {
   "cell_type": "code",
   "execution_count": 17,
   "metadata": {},
   "outputs": [
    {
     "data": {
      "text/plain": [
       "(tensor([[4.2927, 2.4317],\n",
       "         [4.2926, 2.4318],\n",
       "         [4.2929, 2.4312],\n",
       "         [4.2914, 2.4332],\n",
       "         [4.2923, 2.4321],\n",
       "         [4.2931, 2.4313],\n",
       "         [4.2936, 2.4304],\n",
       "         [4.2923, 2.4322],\n",
       "         [4.2924, 2.4320],\n",
       "         [4.2928, 2.4315],\n",
       "         [4.2936, 2.4304],\n",
       "         [4.2921, 2.4325],\n",
       "         [4.2920, 2.4326],\n",
       "         [4.2931, 2.4313],\n",
       "         [4.2937, 2.4303],\n",
       "         [4.2924, 2.4321]], grad_fn=<AddmmBackward>), 0.18143590657882502)"
      ]
     },
     "execution_count": 17,
     "metadata": {},
     "output_type": "execute_result"
    }
   ],
   "source": [
    "ac_policy.model.dist_mean, ac_policy.model.dist_std"
   ]
  },
  {
   "cell_type": "code",
   "execution_count": 18,
   "metadata": {},
   "outputs": [
    {
     "name": "stdout",
     "output_type": "stream",
     "text": [
      "tensor([[3.8298, 2.4036]]) ActionRot(v=1, r=tensor(2.4036))\n",
      "tensor([[3.6132, 2.5334]]) ActionRot(v=1, r=tensor(2.5334))\n",
      "tensor([[4.2282, 2.0527]]) ActionRot(v=1, r=tensor(2.0527))\n",
      "tensor([[4.1194, 2.1706]]) ActionRot(v=1, r=tensor(2.1706))\n",
      "tensor([[3.6905, 3.0923]]) ActionRot(v=1, r=tensor(3.0923))\n",
      "tensor([[4.5960, 2.2194]]) ActionRot(v=1, r=tensor(2.2194))\n",
      "tensor([[4.5961, 2.5158]]) ActionRot(v=1, r=tensor(2.5158))\n",
      "tensor([[4.2264, 2.1194]]) ActionRot(v=1, r=tensor(2.1194))\n",
      "tensor([[4.0009, 3.2476]]) ActionRot(v=1, r=tensor(3.2476))\n",
      "tensor([[3.9448, 2.7859]]) ActionRot(v=1, r=tensor(2.7859))\n",
      "tensor([[3.9303, 2.7470]]) ActionRot(v=1, r=tensor(2.7470))\n",
      "tensor([[3.6672, 2.6171]]) ActionRot(v=1, r=tensor(2.6171))\n",
      "tensor([[4.2915, 2.7410]]) ActionRot(v=1, r=tensor(2.7410))\n",
      "tensor([[3.9301, 2.5295]]) ActionRot(v=1, r=tensor(2.5295))\n",
      "tensor([[4.2330, 2.8511]]) ActionRot(v=1, r=tensor(2.8511))\n",
      "tensor([[4.1927, 2.8530]]) ActionRot(v=1, r=tensor(2.8530))\n",
      "tensor([[3.7551, 2.3563]]) ActionRot(v=1, r=tensor(2.3563))\n",
      "tensor([[4.3700, 3.0056]]) ActionRot(v=1, r=tensor(3.0056))\n",
      "tensor([[4.5360, 2.4074]]) ActionRot(v=1, r=tensor(2.4074))\n",
      "tensor([[4.3682, 1.7758]]) ActionRot(v=1, r=tensor(1.7758))\n",
      "tensor([[4.0128, 2.5558]]) ActionRot(v=1, r=tensor(2.5558))\n",
      "tensor([[2.3321, 2.6400]]) ActionRot(v=1, r=tensor(2.6400))\n",
      "tensor([[3.8073, 2.8784]]) ActionRot(v=1, r=tensor(2.8784))\n",
      "tensor([[4.6128, 2.4749]]) ActionRot(v=1, r=tensor(2.4749))\n",
      "tensor([[4.5989, 2.1844]]) ActionRot(v=1, r=tensor(2.1844))\n",
      "tensor([[4.1884, 2.5704]]) ActionRot(v=1, r=tensor(2.5704))\n",
      "tensor([[4.3751, 2.9129]]) ActionRot(v=1, r=tensor(2.9129))\n",
      "tensor([[3.7158, 1.6669]]) ActionRot(v=1, r=tensor(1.6669))\n",
      "tensor([[3.6184, 2.7641]]) ActionRot(v=1, r=tensor(2.7641))\n",
      "tensor([[4.6795, 2.9981]]) ActionRot(v=1, r=tensor(2.9981))\n",
      "tensor([[4.4506, 2.7503]]) ActionRot(v=1, r=tensor(2.7503))\n",
      "tensor([[4.4148, 2.7464]]) ActionRot(v=1, r=tensor(2.7464))\n",
      "tensor([[3.9551, 2.9640]]) ActionRot(v=1, r=tensor(2.9640))\n",
      "tensor([[4.4061, 2.1927]]) ActionRot(v=1, r=tensor(2.1927))\n",
      "tensor([[4.7860, 2.2391]]) ActionRot(v=1, r=tensor(2.2391))\n",
      "tensor([[4.5834, 2.0559]]) ActionRot(v=1, r=tensor(2.0559))\n",
      "tensor([[4.0623, 2.3702]]) ActionRot(v=1, r=tensor(2.3702))\n",
      "tensor([[3.9744, 2.5501]]) ActionRot(v=1, r=tensor(2.5501))\n",
      "tensor([[4.7800, 2.2256]]) ActionRot(v=1, r=tensor(2.2256))\n",
      "tensor([[4.3841, 2.6601]]) ActionRot(v=1, r=tensor(2.6601))\n",
      "tensor([[4.3444, 1.9655]]) ActionRot(v=1, r=tensor(1.9655))\n",
      "tensor([[4.6572, 2.8961]]) ActionRot(v=1, r=tensor(2.8961))\n",
      "tensor([[4.9074, 2.5694]]) ActionRot(v=1, r=tensor(2.5694))\n",
      "tensor([[4.2282, 2.4724]]) ActionRot(v=1, r=tensor(2.4724))\n",
      "tensor([[4.1585, 2.1854]]) ActionRot(v=1, r=tensor(2.1854))\n",
      "tensor([[4.4311, 2.2716]]) ActionRot(v=1, r=tensor(2.2716))\n",
      "tensor([[4.2380, 2.5830]]) ActionRot(v=1, r=tensor(2.5830))\n",
      "tensor([[4.3980, 3.3901]]) ActionRot(v=1, r=tensor(3.3901))\n",
      "tensor([[4.0821, 2.5005]]) ActionRot(v=1, r=tensor(2.5005))\n",
      "tensor([[3.8103, 3.0415]]) ActionRot(v=1, r=tensor(3.0415))\n",
      "tensor([[4.0368, 2.8145]]) ActionRot(v=1, r=tensor(2.8145))\n",
      "tensor([[3.9752, 2.3842]]) ActionRot(v=1, r=tensor(2.3842))\n",
      "tensor([[4.3921, 2.6485]]) ActionRot(v=1, r=tensor(2.6485))\n",
      "tensor([[4.2850, 1.9471]]) ActionRot(v=1, r=tensor(1.9471))\n",
      "tensor([[3.8640, 2.0244]]) ActionRot(v=1, r=tensor(2.0244))\n",
      "tensor([[4.3367, 2.4993]]) ActionRot(v=1, r=tensor(2.4993))\n",
      "tensor([[5.4008, 2.0079]]) ActionRot(v=1, r=tensor(2.0079))\n",
      "tensor([[5.0429, 2.5956]]) ActionRot(v=1, r=tensor(2.5956))\n",
      "tensor([[3.9342, 2.7011]]) ActionRot(v=1, r=tensor(2.7011))\n",
      "tensor([[4.7417, 2.5545]]) ActionRot(v=1, r=tensor(2.5545))\n",
      "tensor([[4.6008, 2.5508]]) ActionRot(v=1, r=tensor(2.5508))\n",
      "tensor([[4.3500, 2.8322]]) ActionRot(v=1, r=tensor(2.8322))\n",
      "tensor([[3.6236, 2.7771]]) ActionRot(v=1, r=tensor(2.7771))\n",
      "tensor([[4.4761, 2.6129]]) ActionRot(v=1, r=tensor(2.6129))\n",
      "tensor([[3.8176, 2.4504]]) ActionRot(v=1, r=tensor(2.4504))\n",
      "tensor([[4.4264, 2.1730]]) ActionRot(v=1, r=tensor(2.1730))\n",
      "tensor([[3.8019, 2.7803]]) ActionRot(v=1, r=tensor(2.7803))\n",
      "tensor([[3.9284, 3.5857]]) ActionRot(v=1, r=tensor(3.5857))\n",
      "tensor([[5.3946, 2.7491]]) ActionRot(v=1, r=tensor(2.7491))\n",
      "tensor([[4.6123, 2.7503]]) ActionRot(v=1, r=tensor(2.7503))\n",
      "tensor([[4.4967, 3.2622]]) ActionRot(v=1, r=tensor(3.2622))\n",
      "tensor([[4.5280, 2.4335]]) ActionRot(v=1, r=tensor(2.4335))\n",
      "tensor([[4.2248, 2.9798]]) ActionRot(v=1, r=tensor(2.9798))\n",
      "tensor([[3.5687, 2.1229]]) ActionRot(v=1, r=tensor(2.1229))\n",
      "tensor([[4.0707, 3.0198]]) ActionRot(v=1, r=tensor(3.0198))\n",
      "tensor([[3.8301, 2.2791]]) ActionRot(v=1, r=tensor(2.2791))\n",
      "tensor([[5.0876, 2.3776]]) ActionRot(v=1, r=tensor(2.3776))\n",
      "tensor([[4.7372, 2.4959]]) ActionRot(v=1, r=tensor(2.4959))\n",
      "tensor([[4.9215, 2.6124]]) ActionRot(v=1, r=tensor(2.6124))\n",
      "tensor([[4.2770, 1.9541]]) ActionRot(v=1, r=tensor(1.9541))\n",
      "tensor([[4.4360, 2.5866]]) ActionRot(v=1, r=tensor(2.5866))\n",
      "tensor([[3.6654, 1.9018]]) ActionRot(v=1, r=tensor(1.9018))\n",
      "tensor([[4.7736, 1.7382]]) ActionRot(v=1, r=tensor(1.7382))\n",
      "tensor([[3.8370, 2.5982]]) ActionRot(v=1, r=tensor(2.5982))\n",
      "tensor([[3.6143, 3.4040]]) ActionRot(v=1, r=tensor(3.4040))\n",
      "tensor([[3.7407, 2.0889]]) ActionRot(v=1, r=tensor(2.0889))\n",
      "tensor([[4.4193, 2.4224]]) ActionRot(v=1, r=tensor(2.4224))\n",
      "tensor([[4.2386, 2.7283]]) ActionRot(v=1, r=tensor(2.7283))\n",
      "tensor([[3.6696, 2.7265]]) ActionRot(v=1, r=tensor(2.7265))\n",
      "tensor([[4.7724, 2.7916]]) ActionRot(v=1, r=tensor(2.7916))\n",
      "tensor([[3.9450, 2.5823]]) ActionRot(v=1, r=tensor(2.5823))\n",
      "tensor([[3.9806, 2.1840]]) ActionRot(v=1, r=tensor(2.1840))\n",
      "tensor([[4.3662, 2.4367]]) ActionRot(v=1, r=tensor(2.4367))\n",
      "tensor([[5.0168, 2.7220]]) ActionRot(v=1, r=tensor(2.7220))\n",
      "tensor([[4.1229, 3.7275]]) ActionRot(v=1, r=tensor(3.7275))\n",
      "tensor([[4.2917, 2.9695]]) ActionRot(v=1, r=tensor(2.9695))\n",
      "tensor([[4.4649, 3.7564]]) ActionRot(v=1, r=tensor(3.7564))\n"
     ]
    },
    {
     "data": {
      "image/png": "[encoded data removed]",
      "text/plain": [
       "<Figure size 504x504 with 1 Axes>"
      ]
     },
     "metadata": {
      "needs_background": "light"
     },
     "output_type": "display_data"
    }
   ],
   "source": [
    "render_policy_ep(env, ac_policy)"
   ]
  },
  {
   "cell_type": "code",
   "execution_count": 5,
   "metadata": {},
   "outputs": [],
   "source": [
    "x,y = ac_policy.predict(np.asarray([ob]))"
   ]
  },
  {
   "cell_type": "code",
   "execution_count": 6,
   "metadata": {},
   "outputs": [
    {
     "data": {
      "text/plain": [
       "(tensor([[0.0142]], grad_fn=<AddmmBackward>),\n",
       " Normal(loc: tensor([-0.0063], grad_fn=<SelectBackward>), scale: tensor([1.0192], grad_fn=<SelectBackward>)),\n",
       " Normal(loc: tensor([0.1188], grad_fn=<SelectBackward>), scale: tensor([1.0146], grad_fn=<SelectBackward>)))"
      ]
     },
     "execution_count": 6,
     "metadata": {},
     "output_type": "execute_result"
    }
   ],
   "source": [
    "x"
   ]
  },
  {
   "cell_type": "code",
   "execution_count": 7,
   "metadata": {},
   "outputs": [
    {
     "data": {
      "text/plain": [
       "tensor([[[ 2.0000,  1.0000,  0.0000,  0.3000,  0.0000,  0.0000,  4.2722,\n",
       "          -3.9402,  0.0000,  0.0000,  0.3000,  5.8117,  0.6000]]])"
      ]
     },
     "execution_count": 7,
     "metadata": {},
     "output_type": "execute_result"
    }
   ],
   "source": [
    "y"
   ]
  },
  {
   "cell_type": "code",
   "execution_count": 8,
   "metadata": {},
   "outputs": [
    {
     "data": {
      "text/plain": [
       "-4.0"
      ]
     },
     "execution_count": 8,
     "metadata": {},
     "output_type": "execute_result"
    }
   ],
   "source": [
    "env.humans[1].py"
   ]
  },
  {
   "cell_type": "code",
   "execution_count": 15,
   "metadata": {},
   "outputs": [
    {
     "data": {
      "text/plain": [
       "array([0.1, 0.1, 0.1])"
      ]
     },
     "execution_count": 15,
     "metadata": {},
     "output_type": "execute_result"
    }
   ],
   "source": [
    "np.ones_like(np.random.randint(1, 2, 3)) * 0.1"
   ]
  },
  {
   "cell_type": "code",
   "execution_count": 16,
   "metadata": {},
   "outputs": [],
   "source": [
    "from torch.distributions import MultivariateNormal"
   ]
  },
  {
   "cell_type": "code",
   "execution_count": 6,
   "metadata": {},
   "outputs": [],
   "source": [
    "a = torch.randn(4, 4, 2)"
   ]
  },
  {
   "cell_type": "code",
   "execution_count": 51,
   "metadata": {},
   "outputs": [],
   "source": [
    "d = MultivariateNormal(a, torch.eye(2).expand(4, 4, 2, 2))"
   ]
  },
  {
   "cell_type": "code",
   "execution_count": 41,
   "metadata": {},
   "outputs": [
    {
     "data": {
      "text/plain": [
       "torch.Size([4, 4, 2])"
      ]
     },
     "execution_count": 41,
     "metadata": {},
     "output_type": "execute_result"
    }
   ],
   "source": [
    "d.sample().shap"
   ]
  },
  {
   "cell_type": "code",
   "execution_count": 42,
   "metadata": {},
   "outputs": [
    {
     "data": {
      "text/plain": [
       "tensor([[-12.3153,  -4.6237,  -3.9401,  -3.3161],\n",
       "        [ -7.7634,  -7.7194,  -2.2219,  -2.5437],\n",
       "        [ -5.1548,  -3.6816,  -6.0102,  -3.5677],\n",
       "        [ -6.8460,  -4.4097,  -3.1474,  -2.7057]])"
      ]
     },
     "execution_count": 42,
     "metadata": {},
     "output_type": "execute_result"
    }
   ],
   "source": [
    "d.log_prob(torch.randn(4, 2))"
   ]
  },
  {
   "cell_type": "code",
   "execution_count": null,
   "metadata": {},
   "outputs": [],
   "source": []
  }
 ],
 "metadata": {
  "kernelspec": {
   "display_name": "Python 3",
   "language": "python",
   "name": "python3"
  },
  "language_info": {
   "codemirror_mode": {
    "name": "ipython",
    "version": 3
   },
   "file_extension": ".py",
   "mimetype": "text/x-python",
   "name": "python",
   "nbconvert_exporter": "python",
   "pygments_lexer": "ipython3",
   "version": "3.7.2"
  },
  "toc": {
   "base_numbering": 1,
   "nav_menu": {},
   "number_sections": true,
   "sideBar": true,
   "skip_h1_title": false,
   "title_cell": "Table of Contents",
   "title_sidebar": "Contents",
   "toc_cell": false,
   "toc_position": {},
   "toc_section_display": true,
   "toc_window_display": false
  }
 },
 "nbformat": 4,
 "nbformat_minor": 2
}
